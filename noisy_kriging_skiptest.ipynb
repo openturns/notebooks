{
 "metadata": {
  "name": "",
  "signature": "sha256:2cffd02a292fe739c5419f40f87bd8396494439dc63700e54d54a42dae8bb164"
 },
 "nbformat": 3,
 "nbformat_minor": 0,
 "worksheets": [
  {
   "cells": [
    {
     "cell_type": "markdown",
     "metadata": {},
     "source": [
      "# Noisy kriging observations"
     ]
    },
    {
     "cell_type": "markdown",
     "metadata": {},
     "source": [
      "Y process is conditioned on heterogenous noisy observations:\n",
      "\n",
      "$$\\hat{y}_i = y(x^{(i)})+\\epsilon_i, \\epsilon_i \\sim \\mathcal{N}(0, \\tau_i^2)$$\n",
      "\n",
      "$$C^{-1} \\leftarrow (C+\\Delta)^{-1}, \\Delta=I_N diag(\\tau_1^2, \\dots, \\tau_N^2)$$\n",
      "\n",
      "<!--- # $$\\hat{\\beta}=(F^\\top C^{-1} F)^{-1} F^\\top C^{-1} y$$\n",
      "\n",
      " #$$-2log L (\\beta, \\sigma^2, \\theta;y) = nlog(2\\pi)+log(|C|)+(y-F\\hat{\\beta})^\\top C^{-1} (y-F\\hat{\\beta})$$\n",
      " -->"
     ]
    },
    {
     "cell_type": "code",
     "collapsed": false,
     "input": [
      "from __future__ import print_function\n",
      "import openturns as ot\n",
      "from openturns.viewer import View\n",
      "import numpy as np\n",
      "import math as m\n",
      "import matplotlib.pyplot as pl"
     ],
     "language": "python",
     "metadata": {},
     "outputs": [],
     "prompt_number": 1
    },
    {
     "cell_type": "code",
     "collapsed": false,
     "input": [
      "%matplotlib inline"
     ],
     "language": "python",
     "metadata": {},
     "outputs": [],
     "prompt_number": 2
    },
    {
     "cell_type": "code",
     "collapsed": false,
     "input": [
      "dimension = 1\n",
      "\n",
      "inputs = np.array([0, 2, 4, 6, 8, 9])\n",
      "outputs = np.array([0.25, 0.28, 0.32, 0.27, 0.22, 0.19])\n",
      "eps = 0.20\n",
      "cov = np.array([eps, 0.15, eps, 0.15, eps, 0.15])\n",
      "\n",
      "t = np.linspace(0, 10, 100)\n",
      "\n",
      "noise = (outputs * cov / 2)**2\n",
      "X = ot.NumericalSample(inputs.reshape([-1,1]))\n",
      "Y = ot.NumericalSample(outputs.reshape([-1,1]))\n",
      "\n",
      "# create algorithm\n",
      "basis = ot.ConstantBasisFactory(dimension).build()\n",
      "#covarianceModel = ExponentialModel([0.2], [0.1])\n",
      "covarianceModel = ot.SquaredExponential([0.2], [0.1])"
     ],
     "language": "python",
     "metadata": {},
     "outputs": [],
     "prompt_number": 3
    },
    {
     "cell_type": "code",
     "collapsed": false,
     "input": [
      "algo = ot.KrigingAlgorithm(X, Y, basis, covarianceModel)\n",
      "algo.setNoise(noise)\n",
      "algo.run()\n",
      "\n",
      "# perform an evaluation\n",
      "result = algo.getResult()\n",
      "\n",
      "\n",
      "def suk_f(result):\n",
      "    def inner(X):\n",
      "        muk = result.getMetaModel()(X)[0]\n",
      "        sk2 = m.sqrt(result.getConditionalCovariance(X)[0,0])\n",
      "        Y = [muk+sk2, muk-sk2]\n",
      "        #print(X, sk2, Y)\n",
      "        return Y\n",
      "    return inner\n",
      "\n",
      "\n",
      "suk = ot.PythonFunction(1, 2, suk_f(result))\n",
      "\n",
      "fig = pl.figure()\n",
      "pl.errorbar(inputs, outputs, np.sqrt(noise), fmt='b.', markersize=10, label=u'Observations')\n",
      "g = ot.Graph()\n",
      "N = 100\n",
      "xmin = X.getMin()[0]-0.5\n",
      "xmax = X.getMax()[0]+0.5\n",
      "curve = result.getMetaModel().draw(xmin, xmax, N).getDrawable(0)\n",
      "curve.setColor('red')\n",
      "g.add(curve)\n",
      "curve = suk.getMarginal(0).draw(xmin, xmax, N).getDrawable(0)\n",
      "curve.setColor('green')\n",
      "g.add(curve)\n",
      "curve = suk.getMarginal(1).draw(xmin, xmax, N).getDrawable(0)\n",
      "curve.setColor('green')\n",
      "g.add(curve)\n",
      "View(g, figure=fig)\n",
      "\n",
      "\n",
      "print(\"X=\", X)\n",
      "print(\"f(X)=\", Y)\n",
      "print(\"sk2=\",suk(X))\n"
     ],
     "language": "python",
     "metadata": {},
     "outputs": [
      {
       "output_type": "stream",
       "stream": "stdout",
       "text": [
        "X= 0 : [ 0 ]\n",
        "1 : [ 2 ]\n",
        "2 : [ 4 ]\n",
        "3 : [ 6 ]\n",
        "4 : [ 8 ]\n",
        "5 : [ 9 ]\n",
        "f(X)= 0 : [ 0.25 ]\n",
        "1 : [ 0.28 ]\n",
        "2 : [ 0.32 ]\n",
        "3 : [ 0.27 ]\n",
        "4 : [ 0.22 ]\n",
        "5 : [ 0.19 ]\n",
        "sk2=     [ y0       y1       ]\n",
        "0 : [ 0.272988 0.232692 ]\n",
        "1 : [ 0.295325 0.2627   ]\n",
        "2 : [ 0.311605 0.275542 ]\n",
        "3 : [ 0.282149 0.250623 ]\n",
        "4 : [ 0.227762 0.203353 ]\n",
        "5 : [ 0.210868 0.185984 ]\n"
       ]
      },
      {
       "metadata": {},
       "output_type": "display_data",
       "png": "[encoded data removed]",
       "text": [
        "<matplotlib.figure.Figure at 0x7fb9f3824470>"
       ]
      }
     ],
     "prompt_number": 5
    },
    {
     "cell_type": "code",
     "collapsed": false,
     "input": [],
     "language": "python",
     "metadata": {},
     "outputs": []
    }
   ],
   "metadata": {}
  }
 ]
}